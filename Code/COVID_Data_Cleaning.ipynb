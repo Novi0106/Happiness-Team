{
 "cells": [
  {
   "cell_type": "code",
   "execution_count": 49,
   "id": "everyday-peter",
   "metadata": {},
   "outputs": [],
   "source": [
    "import pandas as pd\n",
    "import numpy as np\n",
    "import matplotlib as mpl\n",
    "import seaborn as sns"
   ]
  },
  {
   "cell_type": "code",
   "execution_count": 50,
   "metadata": {},
   "outputs": [],
   "source": [
    "df_cummulative = pd.read_csv('/Users/uce/Desktop/DataAnalytics/data-labs/LabsUros/week5/Happiness-Team/data/WHO-Covid-cummulativecsv.csv')"
   ]
  },
  {
   "cell_type": "code",
   "execution_count": 51,
   "metadata": {},
   "outputs": [
    {
     "output_type": "stream",
     "name": "stdout",
     "text": [
      "<class 'pandas.core.frame.DataFrame'>\nRangeIndex: 127980 entries, 0 to 127979\nData columns (total 8 columns):\n #   Column             Non-Null Count   Dtype \n---  ------             --------------   ----- \n 0   Date_reported      127980 non-null  object\n 1   Country_code       127440 non-null  object\n 2   Country            127980 non-null  object\n 3   WHO_region         127980 non-null  object\n 4   New_cases          127980 non-null  int64 \n 5   Cumulative_cases   127980 non-null  int64 \n 6   New_deaths         127980 non-null  int64 \n 7   Cumulative_deaths  127980 non-null  int64 \ndtypes: int64(4), object(4)\nmemory usage: 7.8+ MB\n"
     ]
    }
   ],
   "source": [
    "df_cummulative.info()"
   ]
  },
  {
   "cell_type": "code",
   "execution_count": 52,
   "metadata": {},
   "outputs": [],
   "source": [
    "df_cummulative.drop(['Country_code'], axis=1, inplace=True)"
   ]
  },
  {
   "cell_type": "code",
   "execution_count": 53,
   "metadata": {},
   "outputs": [
    {
     "output_type": "execute_result",
     "data": {
      "text/plain": [
       "  Date_reported      Country WHO_region  New_cases  Cumulative_cases  \\\n",
       "0    2020-01-03  Afghanistan       EMRO          0                 0   \n",
       "1    2020-01-04  Afghanistan       EMRO          0                 0   \n",
       "2    2020-01-05  Afghanistan       EMRO          0                 0   \n",
       "3    2020-01-06  Afghanistan       EMRO          0                 0   \n",
       "4    2020-01-07  Afghanistan       EMRO          0                 0   \n",
       "\n",
       "   New_deaths  Cumulative_deaths  \n",
       "0           0                  0  \n",
       "1           0                  0  \n",
       "2           0                  0  \n",
       "3           0                  0  \n",
       "4           0                  0  "
      ],
      "text/html": "<div>\n<style scoped>\n    .dataframe tbody tr th:only-of-type {\n        vertical-align: middle;\n    }\n\n    .dataframe tbody tr th {\n        vertical-align: top;\n    }\n\n    .dataframe thead th {\n        text-align: right;\n    }\n</style>\n<table border=\"1\" class=\"dataframe\">\n  <thead>\n    <tr style=\"text-align: right;\">\n      <th></th>\n      <th>Date_reported</th>\n      <th>Country</th>\n      <th>WHO_region</th>\n      <th>New_cases</th>\n      <th>Cumulative_cases</th>\n      <th>New_deaths</th>\n      <th>Cumulative_deaths</th>\n    </tr>\n  </thead>\n  <tbody>\n    <tr>\n      <th>0</th>\n      <td>2020-01-03</td>\n      <td>Afghanistan</td>\n      <td>EMRO</td>\n      <td>0</td>\n      <td>0</td>\n      <td>0</td>\n      <td>0</td>\n    </tr>\n    <tr>\n      <th>1</th>\n      <td>2020-01-04</td>\n      <td>Afghanistan</td>\n      <td>EMRO</td>\n      <td>0</td>\n      <td>0</td>\n      <td>0</td>\n      <td>0</td>\n    </tr>\n    <tr>\n      <th>2</th>\n      <td>2020-01-05</td>\n      <td>Afghanistan</td>\n      <td>EMRO</td>\n      <td>0</td>\n      <td>0</td>\n      <td>0</td>\n      <td>0</td>\n    </tr>\n    <tr>\n      <th>3</th>\n      <td>2020-01-06</td>\n      <td>Afghanistan</td>\n      <td>EMRO</td>\n      <td>0</td>\n      <td>0</td>\n      <td>0</td>\n      <td>0</td>\n    </tr>\n    <tr>\n      <th>4</th>\n      <td>2020-01-07</td>\n      <td>Afghanistan</td>\n      <td>EMRO</td>\n      <td>0</td>\n      <td>0</td>\n      <td>0</td>\n      <td>0</td>\n    </tr>\n  </tbody>\n</table>\n</div>"
     },
     "metadata": {},
     "execution_count": 53
    }
   ],
   "source": [
    "df_cummulative.head()"
   ]
  },
  {
   "cell_type": "code",
   "execution_count": 54,
   "metadata": {},
   "outputs": [],
   "source": [
    "palestine = df_cummulative[df_cummulative['Country'].str.contains('Palestinian')]['Country'].unique()[0]\n",
    "df_cummulative.loc[df_cummulative['Country'].str.contains('Palestinian'), 'Country']='Palestine'"
   ]
  },
  {
   "cell_type": "code",
   "execution_count": 55,
   "metadata": {},
   "outputs": [
    {
     "output_type": "execute_result",
     "data": {
      "text/plain": [
       "237"
      ]
     },
     "metadata": {},
     "execution_count": 55
    }
   ],
   "source": [
    "len(df_cummulative['Country'].unique())"
   ]
  },
  {
   "cell_type": "code",
   "execution_count": 56,
   "metadata": {},
   "outputs": [],
   "source": [
    "df_cummulative['Date_reported'] = pd.to_datetime(df_cummulative['Date_reported'])"
   ]
  },
  {
   "cell_type": "code",
   "execution_count": 57,
   "metadata": {},
   "outputs": [
    {
     "output_type": "stream",
     "name": "stdout",
     "text": [
      "<class 'pandas.core.frame.DataFrame'>\nRangeIndex: 127980 entries, 0 to 127979\nData columns (total 7 columns):\n #   Column             Non-Null Count   Dtype         \n---  ------             --------------   -----         \n 0   Date_reported      127980 non-null  datetime64[ns]\n 1   Country            127980 non-null  object        \n 2   WHO_region         127980 non-null  object        \n 3   New_cases          127980 non-null  int64         \n 4   Cumulative_cases   127980 non-null  int64         \n 5   New_deaths         127980 non-null  int64         \n 6   Cumulative_deaths  127980 non-null  int64         \ndtypes: datetime64[ns](1), int64(4), object(2)\nmemory usage: 6.8+ MB\n"
     ]
    }
   ],
   "source": [
    "df_cummulative.info()"
   ]
  },
  {
   "cell_type": "code",
   "execution_count": 58,
   "metadata": {},
   "outputs": [],
   "source": [
    "cummulative_cols = df_cummulative[['Country', 'Date_reported', 'Cumulative_cases', 'Cumulative_deaths']].copy() #creating a copy of cummulative columns"
   ]
  },
  {
   "cell_type": "code",
   "execution_count": 59,
   "metadata": {},
   "outputs": [
    {
     "output_type": "stream",
     "name": "stdout",
     "text": [
      "<class 'pandas.core.frame.DataFrame'>\nRangeIndex: 127980 entries, 0 to 127979\nData columns (total 4 columns):\n #   Column             Non-Null Count   Dtype         \n---  ------             --------------   -----         \n 0   Country            127980 non-null  object        \n 1   Date_reported      127980 non-null  datetime64[ns]\n 2   Cumulative_cases   127980 non-null  int64         \n 3   Cumulative_deaths  127980 non-null  int64         \ndtypes: datetime64[ns](1), int64(2), object(1)\nmemory usage: 3.9+ MB\n"
     ]
    }
   ],
   "source": [
    "cummulative_cols.info()"
   ]
  },
  {
   "cell_type": "code",
   "execution_count": 60,
   "metadata": {},
   "outputs": [],
   "source": [
    "df_cummulative.drop(['Cumulative_cases', 'Cumulative_deaths'], axis=1, inplace=True)"
   ]
  },
  {
   "cell_type": "code",
   "execution_count": 61,
   "metadata": {},
   "outputs": [
    {
     "output_type": "execute_result",
     "data": {
      "text/plain": [
       "  Date_reported      Country WHO_region  New_cases  New_deaths\n",
       "0    2020-01-03  Afghanistan       EMRO          0           0\n",
       "1    2020-01-04  Afghanistan       EMRO          0           0\n",
       "2    2020-01-05  Afghanistan       EMRO          0           0\n",
       "3    2020-01-06  Afghanistan       EMRO          0           0\n",
       "4    2020-01-07  Afghanistan       EMRO          0           0"
      ],
      "text/html": "<div>\n<style scoped>\n    .dataframe tbody tr th:only-of-type {\n        vertical-align: middle;\n    }\n\n    .dataframe tbody tr th {\n        vertical-align: top;\n    }\n\n    .dataframe thead th {\n        text-align: right;\n    }\n</style>\n<table border=\"1\" class=\"dataframe\">\n  <thead>\n    <tr style=\"text-align: right;\">\n      <th></th>\n      <th>Date_reported</th>\n      <th>Country</th>\n      <th>WHO_region</th>\n      <th>New_cases</th>\n      <th>New_deaths</th>\n    </tr>\n  </thead>\n  <tbody>\n    <tr>\n      <th>0</th>\n      <td>2020-01-03</td>\n      <td>Afghanistan</td>\n      <td>EMRO</td>\n      <td>0</td>\n      <td>0</td>\n    </tr>\n    <tr>\n      <th>1</th>\n      <td>2020-01-04</td>\n      <td>Afghanistan</td>\n      <td>EMRO</td>\n      <td>0</td>\n      <td>0</td>\n    </tr>\n    <tr>\n      <th>2</th>\n      <td>2020-01-05</td>\n      <td>Afghanistan</td>\n      <td>EMRO</td>\n      <td>0</td>\n      <td>0</td>\n    </tr>\n    <tr>\n      <th>3</th>\n      <td>2020-01-06</td>\n      <td>Afghanistan</td>\n      <td>EMRO</td>\n      <td>0</td>\n      <td>0</td>\n    </tr>\n    <tr>\n      <th>4</th>\n      <td>2020-01-07</td>\n      <td>Afghanistan</td>\n      <td>EMRO</td>\n      <td>0</td>\n      <td>0</td>\n    </tr>\n  </tbody>\n</table>\n</div>"
     },
     "metadata": {},
     "execution_count": 61
    }
   ],
   "source": [
    "df_cummulative.head()"
   ]
  },
  {
   "cell_type": "code",
   "execution_count": 62,
   "metadata": {},
   "outputs": [],
   "source": [
    "cummulative_by_month = cummulative_cols.loc[((cummulative_cols['Date_reported'].dt.day == 1)) | ((cummulative_cols['Date_reported'].dt.month == 1) & (cummulative_cols['Date_reported'].dt.day == 3) & (cummulative_cols['Date_reported'].dt.year == 2020))]"
   ]
  },
  {
   "cell_type": "code",
   "execution_count": 63,
   "metadata": {},
   "outputs": [
    {
     "output_type": "execute_result",
     "data": {
      "text/plain": [
       "         Country Date_reported  Cumulative_cases  Cumulative_deaths\n",
       "0    Afghanistan    2020-01-03                 0                  0\n",
       "29   Afghanistan    2020-02-01                 0                  0\n",
       "58   Afghanistan    2020-03-01                 5                  0\n",
       "89   Afghanistan    2020-04-01               192                  4\n",
       "119  Afghanistan    2020-05-01              2171                 64\n",
       "150  Afghanistan    2020-06-01             15836                269\n",
       "180  Afghanistan    2020-07-01             31848                778\n",
       "211  Afghanistan    2020-08-01             36796               1287\n",
       "242  Afghanistan    2020-09-01             38282               1410\n",
       "272  Afghanistan    2020-10-01             39371               1462\n",
       "303  Afghanistan    2020-11-01             41425               1536\n",
       "333  Afghanistan    2020-12-01             46498               1774\n",
       "364  Afghanistan    2021-01-01             52513               2201\n",
       "395  Afghanistan    2021-02-01             55059               2404\n",
       "423  Afghanistan    2021-03-01             55733               2444\n",
       "454  Afghanistan    2021-04-01             56517               2489\n",
       "484  Afghanistan    2021-05-01             59939               2631\n",
       "515  Afghanistan    2021-06-01             72977               2973\n",
       "540      Albania    2020-01-03                 0                  0\n",
       "569      Albania    2020-02-01                 0                  0\n",
       "598      Albania    2020-03-01                 0                  0\n",
       "629      Albania    2020-04-01               239                 14\n",
       "659      Albania    2020-05-01               735                 30\n",
       "690      Albania    2020-06-01              1105                 32\n",
       "720      Albania    2020-07-01              2580                 65\n",
       "751      Albania    2020-08-01              5276                157\n",
       "782      Albania    2020-09-01              9513                284\n",
       "812      Albania    2020-10-01             13649                387\n",
       "843      Albania    2020-11-01             20875                509\n",
       "873      Albania    2020-12-01             38182                810"
      ],
      "text/html": "<div>\n<style scoped>\n    .dataframe tbody tr th:only-of-type {\n        vertical-align: middle;\n    }\n\n    .dataframe tbody tr th {\n        vertical-align: top;\n    }\n\n    .dataframe thead th {\n        text-align: right;\n    }\n</style>\n<table border=\"1\" class=\"dataframe\">\n  <thead>\n    <tr style=\"text-align: right;\">\n      <th></th>\n      <th>Country</th>\n      <th>Date_reported</th>\n      <th>Cumulative_cases</th>\n      <th>Cumulative_deaths</th>\n    </tr>\n  </thead>\n  <tbody>\n    <tr>\n      <th>0</th>\n      <td>Afghanistan</td>\n      <td>2020-01-03</td>\n      <td>0</td>\n      <td>0</td>\n    </tr>\n    <tr>\n      <th>29</th>\n      <td>Afghanistan</td>\n      <td>2020-02-01</td>\n      <td>0</td>\n      <td>0</td>\n    </tr>\n    <tr>\n      <th>58</th>\n      <td>Afghanistan</td>\n      <td>2020-03-01</td>\n      <td>5</td>\n      <td>0</td>\n    </tr>\n    <tr>\n      <th>89</th>\n      <td>Afghanistan</td>\n      <td>2020-04-01</td>\n      <td>192</td>\n      <td>4</td>\n    </tr>\n    <tr>\n      <th>119</th>\n      <td>Afghanistan</td>\n      <td>2020-05-01</td>\n      <td>2171</td>\n      <td>64</td>\n    </tr>\n    <tr>\n      <th>150</th>\n      <td>Afghanistan</td>\n      <td>2020-06-01</td>\n      <td>15836</td>\n      <td>269</td>\n    </tr>\n    <tr>\n      <th>180</th>\n      <td>Afghanistan</td>\n      <td>2020-07-01</td>\n      <td>31848</td>\n      <td>778</td>\n    </tr>\n    <tr>\n      <th>211</th>\n      <td>Afghanistan</td>\n      <td>2020-08-01</td>\n      <td>36796</td>\n      <td>1287</td>\n    </tr>\n    <tr>\n      <th>242</th>\n      <td>Afghanistan</td>\n      <td>2020-09-01</td>\n      <td>38282</td>\n      <td>1410</td>\n    </tr>\n    <tr>\n      <th>272</th>\n      <td>Afghanistan</td>\n      <td>2020-10-01</td>\n      <td>39371</td>\n      <td>1462</td>\n    </tr>\n    <tr>\n      <th>303</th>\n      <td>Afghanistan</td>\n      <td>2020-11-01</td>\n      <td>41425</td>\n      <td>1536</td>\n    </tr>\n    <tr>\n      <th>333</th>\n      <td>Afghanistan</td>\n      <td>2020-12-01</td>\n      <td>46498</td>\n      <td>1774</td>\n    </tr>\n    <tr>\n      <th>364</th>\n      <td>Afghanistan</td>\n      <td>2021-01-01</td>\n      <td>52513</td>\n      <td>2201</td>\n    </tr>\n    <tr>\n      <th>395</th>\n      <td>Afghanistan</td>\n      <td>2021-02-01</td>\n      <td>55059</td>\n      <td>2404</td>\n    </tr>\n    <tr>\n      <th>423</th>\n      <td>Afghanistan</td>\n      <td>2021-03-01</td>\n      <td>55733</td>\n      <td>2444</td>\n    </tr>\n    <tr>\n      <th>454</th>\n      <td>Afghanistan</td>\n      <td>2021-04-01</td>\n      <td>56517</td>\n      <td>2489</td>\n    </tr>\n    <tr>\n      <th>484</th>\n      <td>Afghanistan</td>\n      <td>2021-05-01</td>\n      <td>59939</td>\n      <td>2631</td>\n    </tr>\n    <tr>\n      <th>515</th>\n      <td>Afghanistan</td>\n      <td>2021-06-01</td>\n      <td>72977</td>\n      <td>2973</td>\n    </tr>\n    <tr>\n      <th>540</th>\n      <td>Albania</td>\n      <td>2020-01-03</td>\n      <td>0</td>\n      <td>0</td>\n    </tr>\n    <tr>\n      <th>569</th>\n      <td>Albania</td>\n      <td>2020-02-01</td>\n      <td>0</td>\n      <td>0</td>\n    </tr>\n    <tr>\n      <th>598</th>\n      <td>Albania</td>\n      <td>2020-03-01</td>\n      <td>0</td>\n      <td>0</td>\n    </tr>\n    <tr>\n      <th>629</th>\n      <td>Albania</td>\n      <td>2020-04-01</td>\n      <td>239</td>\n      <td>14</td>\n    </tr>\n    <tr>\n      <th>659</th>\n      <td>Albania</td>\n      <td>2020-05-01</td>\n      <td>735</td>\n      <td>30</td>\n    </tr>\n    <tr>\n      <th>690</th>\n      <td>Albania</td>\n      <td>2020-06-01</td>\n      <td>1105</td>\n      <td>32</td>\n    </tr>\n    <tr>\n      <th>720</th>\n      <td>Albania</td>\n      <td>2020-07-01</td>\n      <td>2580</td>\n      <td>65</td>\n    </tr>\n    <tr>\n      <th>751</th>\n      <td>Albania</td>\n      <td>2020-08-01</td>\n      <td>5276</td>\n      <td>157</td>\n    </tr>\n    <tr>\n      <th>782</th>\n      <td>Albania</td>\n      <td>2020-09-01</td>\n      <td>9513</td>\n      <td>284</td>\n    </tr>\n    <tr>\n      <th>812</th>\n      <td>Albania</td>\n      <td>2020-10-01</td>\n      <td>13649</td>\n      <td>387</td>\n    </tr>\n    <tr>\n      <th>843</th>\n      <td>Albania</td>\n      <td>2020-11-01</td>\n      <td>20875</td>\n      <td>509</td>\n    </tr>\n    <tr>\n      <th>873</th>\n      <td>Albania</td>\n      <td>2020-12-01</td>\n      <td>38182</td>\n      <td>810</td>\n    </tr>\n  </tbody>\n</table>\n</div>"
     },
     "metadata": {},
     "execution_count": 63
    }
   ],
   "source": [
    "cummulative_by_month.head(30)"
   ]
  },
  {
   "cell_type": "code",
   "execution_count": 64,
   "metadata": {},
   "outputs": [],
   "source": [
    "cummulative_by_month.sort_index(inplace=True)"
   ]
  },
  {
   "cell_type": "code",
   "execution_count": 65,
   "metadata": {},
   "outputs": [
    {
     "output_type": "execute_result",
     "data": {
      "text/plain": [
       "         Country Date_reported  Cumulative_cases  Cumulative_deaths\n",
       "0    Afghanistan    2020-01-03                 0                  0\n",
       "29   Afghanistan    2020-02-01                 0                  0\n",
       "58   Afghanistan    2020-03-01                 5                  0\n",
       "89   Afghanistan    2020-04-01               192                  4\n",
       "119  Afghanistan    2020-05-01              2171                 64\n",
       "150  Afghanistan    2020-06-01             15836                269\n",
       "180  Afghanistan    2020-07-01             31848                778\n",
       "211  Afghanistan    2020-08-01             36796               1287\n",
       "242  Afghanistan    2020-09-01             38282               1410\n",
       "272  Afghanistan    2020-10-01             39371               1462\n",
       "303  Afghanistan    2020-11-01             41425               1536\n",
       "333  Afghanistan    2020-12-01             46498               1774\n",
       "364  Afghanistan    2021-01-01             52513               2201\n",
       "395  Afghanistan    2021-02-01             55059               2404\n",
       "423  Afghanistan    2021-03-01             55733               2444\n",
       "454  Afghanistan    2021-04-01             56517               2489\n",
       "484  Afghanistan    2021-05-01             59939               2631\n",
       "515  Afghanistan    2021-06-01             72977               2973\n",
       "540      Albania    2020-01-03                 0                  0\n",
       "569      Albania    2020-02-01                 0                  0\n",
       "598      Albania    2020-03-01                 0                  0\n",
       "629      Albania    2020-04-01               239                 14\n",
       "659      Albania    2020-05-01               735                 30\n",
       "690      Albania    2020-06-01              1105                 32\n",
       "720      Albania    2020-07-01              2580                 65\n",
       "751      Albania    2020-08-01              5276                157\n",
       "782      Albania    2020-09-01              9513                284\n",
       "812      Albania    2020-10-01             13649                387\n",
       "843      Albania    2020-11-01             20875                509\n",
       "873      Albania    2020-12-01             38182                810"
      ],
      "text/html": "<div>\n<style scoped>\n    .dataframe tbody tr th:only-of-type {\n        vertical-align: middle;\n    }\n\n    .dataframe tbody tr th {\n        vertical-align: top;\n    }\n\n    .dataframe thead th {\n        text-align: right;\n    }\n</style>\n<table border=\"1\" class=\"dataframe\">\n  <thead>\n    <tr style=\"text-align: right;\">\n      <th></th>\n      <th>Country</th>\n      <th>Date_reported</th>\n      <th>Cumulative_cases</th>\n      <th>Cumulative_deaths</th>\n    </tr>\n  </thead>\n  <tbody>\n    <tr>\n      <th>0</th>\n      <td>Afghanistan</td>\n      <td>2020-01-03</td>\n      <td>0</td>\n      <td>0</td>\n    </tr>\n    <tr>\n      <th>29</th>\n      <td>Afghanistan</td>\n      <td>2020-02-01</td>\n      <td>0</td>\n      <td>0</td>\n    </tr>\n    <tr>\n      <th>58</th>\n      <td>Afghanistan</td>\n      <td>2020-03-01</td>\n      <td>5</td>\n      <td>0</td>\n    </tr>\n    <tr>\n      <th>89</th>\n      <td>Afghanistan</td>\n      <td>2020-04-01</td>\n      <td>192</td>\n      <td>4</td>\n    </tr>\n    <tr>\n      <th>119</th>\n      <td>Afghanistan</td>\n      <td>2020-05-01</td>\n      <td>2171</td>\n      <td>64</td>\n    </tr>\n    <tr>\n      <th>150</th>\n      <td>Afghanistan</td>\n      <td>2020-06-01</td>\n      <td>15836</td>\n      <td>269</td>\n    </tr>\n    <tr>\n      <th>180</th>\n      <td>Afghanistan</td>\n      <td>2020-07-01</td>\n      <td>31848</td>\n      <td>778</td>\n    </tr>\n    <tr>\n      <th>211</th>\n      <td>Afghanistan</td>\n      <td>2020-08-01</td>\n      <td>36796</td>\n      <td>1287</td>\n    </tr>\n    <tr>\n      <th>242</th>\n      <td>Afghanistan</td>\n      <td>2020-09-01</td>\n      <td>38282</td>\n      <td>1410</td>\n    </tr>\n    <tr>\n      <th>272</th>\n      <td>Afghanistan</td>\n      <td>2020-10-01</td>\n      <td>39371</td>\n      <td>1462</td>\n    </tr>\n    <tr>\n      <th>303</th>\n      <td>Afghanistan</td>\n      <td>2020-11-01</td>\n      <td>41425</td>\n      <td>1536</td>\n    </tr>\n    <tr>\n      <th>333</th>\n      <td>Afghanistan</td>\n      <td>2020-12-01</td>\n      <td>46498</td>\n      <td>1774</td>\n    </tr>\n    <tr>\n      <th>364</th>\n      <td>Afghanistan</td>\n      <td>2021-01-01</td>\n      <td>52513</td>\n      <td>2201</td>\n    </tr>\n    <tr>\n      <th>395</th>\n      <td>Afghanistan</td>\n      <td>2021-02-01</td>\n      <td>55059</td>\n      <td>2404</td>\n    </tr>\n    <tr>\n      <th>423</th>\n      <td>Afghanistan</td>\n      <td>2021-03-01</td>\n      <td>55733</td>\n      <td>2444</td>\n    </tr>\n    <tr>\n      <th>454</th>\n      <td>Afghanistan</td>\n      <td>2021-04-01</td>\n      <td>56517</td>\n      <td>2489</td>\n    </tr>\n    <tr>\n      <th>484</th>\n      <td>Afghanistan</td>\n      <td>2021-05-01</td>\n      <td>59939</td>\n      <td>2631</td>\n    </tr>\n    <tr>\n      <th>515</th>\n      <td>Afghanistan</td>\n      <td>2021-06-01</td>\n      <td>72977</td>\n      <td>2973</td>\n    </tr>\n    <tr>\n      <th>540</th>\n      <td>Albania</td>\n      <td>2020-01-03</td>\n      <td>0</td>\n      <td>0</td>\n    </tr>\n    <tr>\n      <th>569</th>\n      <td>Albania</td>\n      <td>2020-02-01</td>\n      <td>0</td>\n      <td>0</td>\n    </tr>\n    <tr>\n      <th>598</th>\n      <td>Albania</td>\n      <td>2020-03-01</td>\n      <td>0</td>\n      <td>0</td>\n    </tr>\n    <tr>\n      <th>629</th>\n      <td>Albania</td>\n      <td>2020-04-01</td>\n      <td>239</td>\n      <td>14</td>\n    </tr>\n    <tr>\n      <th>659</th>\n      <td>Albania</td>\n      <td>2020-05-01</td>\n      <td>735</td>\n      <td>30</td>\n    </tr>\n    <tr>\n      <th>690</th>\n      <td>Albania</td>\n      <td>2020-06-01</td>\n      <td>1105</td>\n      <td>32</td>\n    </tr>\n    <tr>\n      <th>720</th>\n      <td>Albania</td>\n      <td>2020-07-01</td>\n      <td>2580</td>\n      <td>65</td>\n    </tr>\n    <tr>\n      <th>751</th>\n      <td>Albania</td>\n      <td>2020-08-01</td>\n      <td>5276</td>\n      <td>157</td>\n    </tr>\n    <tr>\n      <th>782</th>\n      <td>Albania</td>\n      <td>2020-09-01</td>\n      <td>9513</td>\n      <td>284</td>\n    </tr>\n    <tr>\n      <th>812</th>\n      <td>Albania</td>\n      <td>2020-10-01</td>\n      <td>13649</td>\n      <td>387</td>\n    </tr>\n    <tr>\n      <th>843</th>\n      <td>Albania</td>\n      <td>2020-11-01</td>\n      <td>20875</td>\n      <td>509</td>\n    </tr>\n    <tr>\n      <th>873</th>\n      <td>Albania</td>\n      <td>2020-12-01</td>\n      <td>38182</td>\n      <td>810</td>\n    </tr>\n  </tbody>\n</table>\n</div>"
     },
     "metadata": {},
     "execution_count": 65
    }
   ],
   "source": [
    "cummulative_by_month.head(30)"
   ]
  },
  {
   "source": [
    "### Grouping and summing new_cases and New_deaths by month and year"
   ],
   "cell_type": "markdown",
   "metadata": {}
  },
  {
   "cell_type": "code",
   "execution_count": 66,
   "metadata": {},
   "outputs": [],
   "source": [
    "df_cummulative['month'] = df_cummulative['Date_reported'].dt.month"
   ]
  },
  {
   "cell_type": "code",
   "execution_count": 67,
   "metadata": {},
   "outputs": [],
   "source": [
    "df_cummulative['year'] = df_cummulative['Date_reported'].dt.year"
   ]
  },
  {
   "cell_type": "code",
   "execution_count": 68,
   "metadata": {},
   "outputs": [],
   "source": [
    "group_by_month_year_sum = df_cummulative.groupby(['Country', 'month', 'year']).agg({'New_cases':'sum', 'New_deaths':'sum'})"
   ]
  },
  {
   "cell_type": "code",
   "execution_count": 69,
   "metadata": {},
   "outputs": [
    {
     "output_type": "execute_result",
     "data": {
      "text/plain": [
       "                        New_cases  New_deaths\n",
       "Country     month year                       \n",
       "Afghanistan 1     2020          0           0\n",
       "                  2021       2693         211\n",
       "            2     2020          5           0\n",
       "                  2021        691          43\n",
       "            3     2020        161           4\n",
       "                  2021        740          41\n",
       "            4     2020       1661          56\n",
       "                  2021       3291         141\n",
       "            5     2020      13353         194\n",
       "                  2021      12093         319\n",
       "            6     2020      16265         485\n",
       "                  2021      39754        1575\n",
       "            7     2020       5183         536\n",
       "            8     2020       1620         131\n",
       "            9     2020       1106          56\n",
       "            10    2020       1980          71\n",
       "            11    2020       4881         230\n",
       "            12    2020       6115         426\n",
       "Albania     1     2020          0           0\n",
       "                  2021      19524         195\n",
       "            2     2020          0           0\n",
       "                  2021      28964         406\n",
       "            3     2020        205          12\n",
       "                  2021      18508         452\n",
       "            4     2020        530          18\n",
       "                  2021       6254         162\n",
       "            5     2020        363           2\n",
       "                  2021       1332          61\n",
       "            6     2020       1437          30\n",
       "                  2021        190           5"
      ],
      "text/html": "<div>\n<style scoped>\n    .dataframe tbody tr th:only-of-type {\n        vertical-align: middle;\n    }\n\n    .dataframe tbody tr th {\n        vertical-align: top;\n    }\n\n    .dataframe thead th {\n        text-align: right;\n    }\n</style>\n<table border=\"1\" class=\"dataframe\">\n  <thead>\n    <tr style=\"text-align: right;\">\n      <th></th>\n      <th></th>\n      <th></th>\n      <th>New_cases</th>\n      <th>New_deaths</th>\n    </tr>\n    <tr>\n      <th>Country</th>\n      <th>month</th>\n      <th>year</th>\n      <th></th>\n      <th></th>\n    </tr>\n  </thead>\n  <tbody>\n    <tr>\n      <th rowspan=\"18\" valign=\"top\">Afghanistan</th>\n      <th rowspan=\"2\" valign=\"top\">1</th>\n      <th>2020</th>\n      <td>0</td>\n      <td>0</td>\n    </tr>\n    <tr>\n      <th>2021</th>\n      <td>2693</td>\n      <td>211</td>\n    </tr>\n    <tr>\n      <th rowspan=\"2\" valign=\"top\">2</th>\n      <th>2020</th>\n      <td>5</td>\n      <td>0</td>\n    </tr>\n    <tr>\n      <th>2021</th>\n      <td>691</td>\n      <td>43</td>\n    </tr>\n    <tr>\n      <th rowspan=\"2\" valign=\"top\">3</th>\n      <th>2020</th>\n      <td>161</td>\n      <td>4</td>\n    </tr>\n    <tr>\n      <th>2021</th>\n      <td>740</td>\n      <td>41</td>\n    </tr>\n    <tr>\n      <th rowspan=\"2\" valign=\"top\">4</th>\n      <th>2020</th>\n      <td>1661</td>\n      <td>56</td>\n    </tr>\n    <tr>\n      <th>2021</th>\n      <td>3291</td>\n      <td>141</td>\n    </tr>\n    <tr>\n      <th rowspan=\"2\" valign=\"top\">5</th>\n      <th>2020</th>\n      <td>13353</td>\n      <td>194</td>\n    </tr>\n    <tr>\n      <th>2021</th>\n      <td>12093</td>\n      <td>319</td>\n    </tr>\n    <tr>\n      <th rowspan=\"2\" valign=\"top\">6</th>\n      <th>2020</th>\n      <td>16265</td>\n      <td>485</td>\n    </tr>\n    <tr>\n      <th>2021</th>\n      <td>39754</td>\n      <td>1575</td>\n    </tr>\n    <tr>\n      <th>7</th>\n      <th>2020</th>\n      <td>5183</td>\n      <td>536</td>\n    </tr>\n    <tr>\n      <th>8</th>\n      <th>2020</th>\n      <td>1620</td>\n      <td>131</td>\n    </tr>\n    <tr>\n      <th>9</th>\n      <th>2020</th>\n      <td>1106</td>\n      <td>56</td>\n    </tr>\n    <tr>\n      <th>10</th>\n      <th>2020</th>\n      <td>1980</td>\n      <td>71</td>\n    </tr>\n    <tr>\n      <th>11</th>\n      <th>2020</th>\n      <td>4881</td>\n      <td>230</td>\n    </tr>\n    <tr>\n      <th>12</th>\n      <th>2020</th>\n      <td>6115</td>\n      <td>426</td>\n    </tr>\n    <tr>\n      <th rowspan=\"12\" valign=\"top\">Albania</th>\n      <th rowspan=\"2\" valign=\"top\">1</th>\n      <th>2020</th>\n      <td>0</td>\n      <td>0</td>\n    </tr>\n    <tr>\n      <th>2021</th>\n      <td>19524</td>\n      <td>195</td>\n    </tr>\n    <tr>\n      <th rowspan=\"2\" valign=\"top\">2</th>\n      <th>2020</th>\n      <td>0</td>\n      <td>0</td>\n    </tr>\n    <tr>\n      <th>2021</th>\n      <td>28964</td>\n      <td>406</td>\n    </tr>\n    <tr>\n      <th rowspan=\"2\" valign=\"top\">3</th>\n      <th>2020</th>\n      <td>205</td>\n      <td>12</td>\n    </tr>\n    <tr>\n      <th>2021</th>\n      <td>18508</td>\n      <td>452</td>\n    </tr>\n    <tr>\n      <th rowspan=\"2\" valign=\"top\">4</th>\n      <th>2020</th>\n      <td>530</td>\n      <td>18</td>\n    </tr>\n    <tr>\n      <th>2021</th>\n      <td>6254</td>\n      <td>162</td>\n    </tr>\n    <tr>\n      <th rowspan=\"2\" valign=\"top\">5</th>\n      <th>2020</th>\n      <td>363</td>\n      <td>2</td>\n    </tr>\n    <tr>\n      <th>2021</th>\n      <td>1332</td>\n      <td>61</td>\n    </tr>\n    <tr>\n      <th rowspan=\"2\" valign=\"top\">6</th>\n      <th>2020</th>\n      <td>1437</td>\n      <td>30</td>\n    </tr>\n    <tr>\n      <th>2021</th>\n      <td>190</td>\n      <td>5</td>\n    </tr>\n  </tbody>\n</table>\n</div>"
     },
     "metadata": {},
     "execution_count": 69
    }
   ],
   "source": [
    "group_by_month_year_sum.head(30)"
   ]
  },
  {
   "cell_type": "code",
   "execution_count": 70,
   "metadata": {},
   "outputs": [],
   "source": [
    "group_by_month_year_sum.sort_values(by=['Country', 'year', 'month'], inplace=True) # sorting"
   ]
  },
  {
   "cell_type": "code",
   "execution_count": 71,
   "metadata": {},
   "outputs": [
    {
     "output_type": "execute_result",
     "data": {
      "text/plain": [
       "                        New_cases  New_deaths\n",
       "Country     month year                       \n",
       "Afghanistan 1     2020          0           0\n",
       "            2     2020          5           0\n",
       "            3     2020        161           4\n",
       "            4     2020       1661          56\n",
       "            5     2020      13353         194\n",
       "...                           ...         ...\n",
       "Zimbabwe    2     2021       2723         265\n",
       "            3     2021        864          63\n",
       "            4     2021       1377          46\n",
       "            5     2021        709          27\n",
       "            6     2021       5362         115\n",
       "\n",
       "[4266 rows x 2 columns]"
      ],
      "text/html": "<div>\n<style scoped>\n    .dataframe tbody tr th:only-of-type {\n        vertical-align: middle;\n    }\n\n    .dataframe tbody tr th {\n        vertical-align: top;\n    }\n\n    .dataframe thead th {\n        text-align: right;\n    }\n</style>\n<table border=\"1\" class=\"dataframe\">\n  <thead>\n    <tr style=\"text-align: right;\">\n      <th></th>\n      <th></th>\n      <th></th>\n      <th>New_cases</th>\n      <th>New_deaths</th>\n    </tr>\n    <tr>\n      <th>Country</th>\n      <th>month</th>\n      <th>year</th>\n      <th></th>\n      <th></th>\n    </tr>\n  </thead>\n  <tbody>\n    <tr>\n      <th rowspan=\"5\" valign=\"top\">Afghanistan</th>\n      <th>1</th>\n      <th>2020</th>\n      <td>0</td>\n      <td>0</td>\n    </tr>\n    <tr>\n      <th>2</th>\n      <th>2020</th>\n      <td>5</td>\n      <td>0</td>\n    </tr>\n    <tr>\n      <th>3</th>\n      <th>2020</th>\n      <td>161</td>\n      <td>4</td>\n    </tr>\n    <tr>\n      <th>4</th>\n      <th>2020</th>\n      <td>1661</td>\n      <td>56</td>\n    </tr>\n    <tr>\n      <th>5</th>\n      <th>2020</th>\n      <td>13353</td>\n      <td>194</td>\n    </tr>\n    <tr>\n      <th>...</th>\n      <th>...</th>\n      <th>...</th>\n      <td>...</td>\n      <td>...</td>\n    </tr>\n    <tr>\n      <th rowspan=\"5\" valign=\"top\">Zimbabwe</th>\n      <th>2</th>\n      <th>2021</th>\n      <td>2723</td>\n      <td>265</td>\n    </tr>\n    <tr>\n      <th>3</th>\n      <th>2021</th>\n      <td>864</td>\n      <td>63</td>\n    </tr>\n    <tr>\n      <th>4</th>\n      <th>2021</th>\n      <td>1377</td>\n      <td>46</td>\n    </tr>\n    <tr>\n      <th>5</th>\n      <th>2021</th>\n      <td>709</td>\n      <td>27</td>\n    </tr>\n    <tr>\n      <th>6</th>\n      <th>2021</th>\n      <td>5362</td>\n      <td>115</td>\n    </tr>\n  </tbody>\n</table>\n<p>4266 rows × 2 columns</p>\n</div>"
     },
     "metadata": {},
     "execution_count": 71
    }
   ],
   "source": [
    "group_by_month_year_sum"
   ]
  },
  {
   "cell_type": "code",
   "execution_count": 72,
   "metadata": {},
   "outputs": [],
   "source": [
    "group_by_month_year_sum = group_by_month_year_sum.reset_index()"
   ]
  },
  {
   "cell_type": "code",
   "execution_count": 73,
   "metadata": {},
   "outputs": [],
   "source": [
    "cummulative_by_month = cummulative_by_month.reset_index()"
   ]
  },
  {
   "cell_type": "code",
   "execution_count": 74,
   "metadata": {},
   "outputs": [
    {
     "output_type": "stream",
     "name": "stdout",
     "text": [
      "<class 'pandas.core.frame.DataFrame'>\nRangeIndex: 4266 entries, 0 to 4265\nData columns (total 5 columns):\n #   Column      Non-Null Count  Dtype \n---  ------      --------------  ----- \n 0   Country     4266 non-null   object\n 1   month       4266 non-null   int64 \n 2   year        4266 non-null   int64 \n 3   New_cases   4266 non-null   int64 \n 4   New_deaths  4266 non-null   int64 \ndtypes: int64(4), object(1)\nmemory usage: 166.8+ KB\n"
     ]
    }
   ],
   "source": [
    "group_by_month_year_sum.info()"
   ]
  },
  {
   "cell_type": "code",
   "execution_count": 75,
   "metadata": {},
   "outputs": [
    {
     "output_type": "execute_result",
     "data": {
      "text/plain": [
       "237"
      ]
     },
     "metadata": {},
     "execution_count": 75
    }
   ],
   "source": [
    "len(group_by_month_year_sum['Country'].unique())"
   ]
  },
  {
   "cell_type": "code",
   "execution_count": 76,
   "metadata": {},
   "outputs": [
    {
     "output_type": "execute_result",
     "data": {
      "text/plain": [
       "237"
      ]
     },
     "metadata": {},
     "execution_count": 76
    }
   ],
   "source": [
    "len(cummulative_by_month['Country'].unique())"
   ]
  },
  {
   "cell_type": "code",
   "execution_count": 77,
   "metadata": {},
   "outputs": [
    {
     "output_type": "execute_result",
     "data": {
      "text/plain": [
       "    index      Country Date_reported  Cumulative_cases  Cumulative_deaths\n",
       "0       0  Afghanistan    2020-01-03                 0                  0\n",
       "1      29  Afghanistan    2020-02-01                 0                  0\n",
       "2      58  Afghanistan    2020-03-01                 5                  0\n",
       "3      89  Afghanistan    2020-04-01               192                  4\n",
       "4     119  Afghanistan    2020-05-01              2171                 64\n",
       "5     150  Afghanistan    2020-06-01             15836                269\n",
       "6     180  Afghanistan    2020-07-01             31848                778\n",
       "7     211  Afghanistan    2020-08-01             36796               1287\n",
       "8     242  Afghanistan    2020-09-01             38282               1410\n",
       "9     272  Afghanistan    2020-10-01             39371               1462\n",
       "10    303  Afghanistan    2020-11-01             41425               1536\n",
       "11    333  Afghanistan    2020-12-01             46498               1774\n",
       "12    364  Afghanistan    2021-01-01             52513               2201\n",
       "13    395  Afghanistan    2021-02-01             55059               2404\n",
       "14    423  Afghanistan    2021-03-01             55733               2444\n",
       "15    454  Afghanistan    2021-04-01             56517               2489\n",
       "16    484  Afghanistan    2021-05-01             59939               2631\n",
       "17    515  Afghanistan    2021-06-01             72977               2973\n",
       "18    540      Albania    2020-01-03                 0                  0\n",
       "19    569      Albania    2020-02-01                 0                  0"
      ],
      "text/html": "<div>\n<style scoped>\n    .dataframe tbody tr th:only-of-type {\n        vertical-align: middle;\n    }\n\n    .dataframe tbody tr th {\n        vertical-align: top;\n    }\n\n    .dataframe thead th {\n        text-align: right;\n    }\n</style>\n<table border=\"1\" class=\"dataframe\">\n  <thead>\n    <tr style=\"text-align: right;\">\n      <th></th>\n      <th>index</th>\n      <th>Country</th>\n      <th>Date_reported</th>\n      <th>Cumulative_cases</th>\n      <th>Cumulative_deaths</th>\n    </tr>\n  </thead>\n  <tbody>\n    <tr>\n      <th>0</th>\n      <td>0</td>\n      <td>Afghanistan</td>\n      <td>2020-01-03</td>\n      <td>0</td>\n      <td>0</td>\n    </tr>\n    <tr>\n      <th>1</th>\n      <td>29</td>\n      <td>Afghanistan</td>\n      <td>2020-02-01</td>\n      <td>0</td>\n      <td>0</td>\n    </tr>\n    <tr>\n      <th>2</th>\n      <td>58</td>\n      <td>Afghanistan</td>\n      <td>2020-03-01</td>\n      <td>5</td>\n      <td>0</td>\n    </tr>\n    <tr>\n      <th>3</th>\n      <td>89</td>\n      <td>Afghanistan</td>\n      <td>2020-04-01</td>\n      <td>192</td>\n      <td>4</td>\n    </tr>\n    <tr>\n      <th>4</th>\n      <td>119</td>\n      <td>Afghanistan</td>\n      <td>2020-05-01</td>\n      <td>2171</td>\n      <td>64</td>\n    </tr>\n    <tr>\n      <th>5</th>\n      <td>150</td>\n      <td>Afghanistan</td>\n      <td>2020-06-01</td>\n      <td>15836</td>\n      <td>269</td>\n    </tr>\n    <tr>\n      <th>6</th>\n      <td>180</td>\n      <td>Afghanistan</td>\n      <td>2020-07-01</td>\n      <td>31848</td>\n      <td>778</td>\n    </tr>\n    <tr>\n      <th>7</th>\n      <td>211</td>\n      <td>Afghanistan</td>\n      <td>2020-08-01</td>\n      <td>36796</td>\n      <td>1287</td>\n    </tr>\n    <tr>\n      <th>8</th>\n      <td>242</td>\n      <td>Afghanistan</td>\n      <td>2020-09-01</td>\n      <td>38282</td>\n      <td>1410</td>\n    </tr>\n    <tr>\n      <th>9</th>\n      <td>272</td>\n      <td>Afghanistan</td>\n      <td>2020-10-01</td>\n      <td>39371</td>\n      <td>1462</td>\n    </tr>\n    <tr>\n      <th>10</th>\n      <td>303</td>\n      <td>Afghanistan</td>\n      <td>2020-11-01</td>\n      <td>41425</td>\n      <td>1536</td>\n    </tr>\n    <tr>\n      <th>11</th>\n      <td>333</td>\n      <td>Afghanistan</td>\n      <td>2020-12-01</td>\n      <td>46498</td>\n      <td>1774</td>\n    </tr>\n    <tr>\n      <th>12</th>\n      <td>364</td>\n      <td>Afghanistan</td>\n      <td>2021-01-01</td>\n      <td>52513</td>\n      <td>2201</td>\n    </tr>\n    <tr>\n      <th>13</th>\n      <td>395</td>\n      <td>Afghanistan</td>\n      <td>2021-02-01</td>\n      <td>55059</td>\n      <td>2404</td>\n    </tr>\n    <tr>\n      <th>14</th>\n      <td>423</td>\n      <td>Afghanistan</td>\n      <td>2021-03-01</td>\n      <td>55733</td>\n      <td>2444</td>\n    </tr>\n    <tr>\n      <th>15</th>\n      <td>454</td>\n      <td>Afghanistan</td>\n      <td>2021-04-01</td>\n      <td>56517</td>\n      <td>2489</td>\n    </tr>\n    <tr>\n      <th>16</th>\n      <td>484</td>\n      <td>Afghanistan</td>\n      <td>2021-05-01</td>\n      <td>59939</td>\n      <td>2631</td>\n    </tr>\n    <tr>\n      <th>17</th>\n      <td>515</td>\n      <td>Afghanistan</td>\n      <td>2021-06-01</td>\n      <td>72977</td>\n      <td>2973</td>\n    </tr>\n    <tr>\n      <th>18</th>\n      <td>540</td>\n      <td>Albania</td>\n      <td>2020-01-03</td>\n      <td>0</td>\n      <td>0</td>\n    </tr>\n    <tr>\n      <th>19</th>\n      <td>569</td>\n      <td>Albania</td>\n      <td>2020-02-01</td>\n      <td>0</td>\n      <td>0</td>\n    </tr>\n  </tbody>\n</table>\n</div>"
     },
     "metadata": {},
     "execution_count": 77
    }
   ],
   "source": [
    "cummulative_by_month.head(20)"
   ]
  },
  {
   "cell_type": "code",
   "execution_count": 78,
   "metadata": {},
   "outputs": [
    {
     "output_type": "stream",
     "name": "stdout",
     "text": [
      "<class 'pandas.core.frame.DataFrame'>\nRangeIndex: 4266 entries, 0 to 4265\nData columns (total 5 columns):\n #   Column      Non-Null Count  Dtype \n---  ------      --------------  ----- \n 0   Country     4266 non-null   object\n 1   month       4266 non-null   int64 \n 2   year        4266 non-null   int64 \n 3   New_cases   4266 non-null   int64 \n 4   New_deaths  4266 non-null   int64 \ndtypes: int64(4), object(1)\nmemory usage: 166.8+ KB\n"
     ]
    }
   ],
   "source": [
    "group_by_month_year_sum.info()"
   ]
  },
  {
   "cell_type": "code",
   "execution_count": 79,
   "metadata": {},
   "outputs": [
    {
     "output_type": "execute_result",
     "data": {
      "text/plain": [
       "       index      Country Date_reported  Cumulative_cases  Cumulative_deaths\n",
       "0          0  Afghanistan    2020-01-03                 0                  0\n",
       "1         29  Afghanistan    2020-02-01                 0                  0\n",
       "2         58  Afghanistan    2020-03-01                 5                  0\n",
       "3         89  Afghanistan    2020-04-01               192                  4\n",
       "4        119  Afghanistan    2020-05-01              2171                 64\n",
       "...      ...          ...           ...               ...                ...\n",
       "4261  127835     Zimbabwe    2021-02-01             33388               1217\n",
       "4262  127863     Zimbabwe    2021-03-01             36089               1463\n",
       "4263  127894     Zimbabwe    2021-04-01             36882               1523\n",
       "4264  127924     Zimbabwe    2021-05-01             38257               1567\n",
       "4265  127955     Zimbabwe    2021-06-01             38961               1596\n",
       "\n",
       "[4266 rows x 5 columns]"
      ],
      "text/html": "<div>\n<style scoped>\n    .dataframe tbody tr th:only-of-type {\n        vertical-align: middle;\n    }\n\n    .dataframe tbody tr th {\n        vertical-align: top;\n    }\n\n    .dataframe thead th {\n        text-align: right;\n    }\n</style>\n<table border=\"1\" class=\"dataframe\">\n  <thead>\n    <tr style=\"text-align: right;\">\n      <th></th>\n      <th>index</th>\n      <th>Country</th>\n      <th>Date_reported</th>\n      <th>Cumulative_cases</th>\n      <th>Cumulative_deaths</th>\n    </tr>\n  </thead>\n  <tbody>\n    <tr>\n      <th>0</th>\n      <td>0</td>\n      <td>Afghanistan</td>\n      <td>2020-01-03</td>\n      <td>0</td>\n      <td>0</td>\n    </tr>\n    <tr>\n      <th>1</th>\n      <td>29</td>\n      <td>Afghanistan</td>\n      <td>2020-02-01</td>\n      <td>0</td>\n      <td>0</td>\n    </tr>\n    <tr>\n      <th>2</th>\n      <td>58</td>\n      <td>Afghanistan</td>\n      <td>2020-03-01</td>\n      <td>5</td>\n      <td>0</td>\n    </tr>\n    <tr>\n      <th>3</th>\n      <td>89</td>\n      <td>Afghanistan</td>\n      <td>2020-04-01</td>\n      <td>192</td>\n      <td>4</td>\n    </tr>\n    <tr>\n      <th>4</th>\n      <td>119</td>\n      <td>Afghanistan</td>\n      <td>2020-05-01</td>\n      <td>2171</td>\n      <td>64</td>\n    </tr>\n    <tr>\n      <th>...</th>\n      <td>...</td>\n      <td>...</td>\n      <td>...</td>\n      <td>...</td>\n      <td>...</td>\n    </tr>\n    <tr>\n      <th>4261</th>\n      <td>127835</td>\n      <td>Zimbabwe</td>\n      <td>2021-02-01</td>\n      <td>33388</td>\n      <td>1217</td>\n    </tr>\n    <tr>\n      <th>4262</th>\n      <td>127863</td>\n      <td>Zimbabwe</td>\n      <td>2021-03-01</td>\n      <td>36089</td>\n      <td>1463</td>\n    </tr>\n    <tr>\n      <th>4263</th>\n      <td>127894</td>\n      <td>Zimbabwe</td>\n      <td>2021-04-01</td>\n      <td>36882</td>\n      <td>1523</td>\n    </tr>\n    <tr>\n      <th>4264</th>\n      <td>127924</td>\n      <td>Zimbabwe</td>\n      <td>2021-05-01</td>\n      <td>38257</td>\n      <td>1567</td>\n    </tr>\n    <tr>\n      <th>4265</th>\n      <td>127955</td>\n      <td>Zimbabwe</td>\n      <td>2021-06-01</td>\n      <td>38961</td>\n      <td>1596</td>\n    </tr>\n  </tbody>\n</table>\n<p>4266 rows × 5 columns</p>\n</div>"
     },
     "metadata": {},
     "execution_count": 79
    }
   ],
   "source": [
    "cummulative_by_month"
   ]
  },
  {
   "cell_type": "code",
   "execution_count": 80,
   "metadata": {},
   "outputs": [
    {
     "output_type": "execute_result",
     "data": {
      "text/plain": [
       "          Country  month  year  New_cases  New_deaths\n",
       "0     Afghanistan      1  2020          0           0\n",
       "1     Afghanistan      2  2020          5           0\n",
       "2     Afghanistan      3  2020        161           4\n",
       "3     Afghanistan      4  2020       1661          56\n",
       "4     Afghanistan      5  2020      13353         194\n",
       "...           ...    ...   ...        ...         ...\n",
       "4261     Zimbabwe      2  2021       2723         265\n",
       "4262     Zimbabwe      3  2021        864          63\n",
       "4263     Zimbabwe      4  2021       1377          46\n",
       "4264     Zimbabwe      5  2021        709          27\n",
       "4265     Zimbabwe      6  2021       5362         115\n",
       "\n",
       "[4266 rows x 5 columns]"
      ],
      "text/html": "<div>\n<style scoped>\n    .dataframe tbody tr th:only-of-type {\n        vertical-align: middle;\n    }\n\n    .dataframe tbody tr th {\n        vertical-align: top;\n    }\n\n    .dataframe thead th {\n        text-align: right;\n    }\n</style>\n<table border=\"1\" class=\"dataframe\">\n  <thead>\n    <tr style=\"text-align: right;\">\n      <th></th>\n      <th>Country</th>\n      <th>month</th>\n      <th>year</th>\n      <th>New_cases</th>\n      <th>New_deaths</th>\n    </tr>\n  </thead>\n  <tbody>\n    <tr>\n      <th>0</th>\n      <td>Afghanistan</td>\n      <td>1</td>\n      <td>2020</td>\n      <td>0</td>\n      <td>0</td>\n    </tr>\n    <tr>\n      <th>1</th>\n      <td>Afghanistan</td>\n      <td>2</td>\n      <td>2020</td>\n      <td>5</td>\n      <td>0</td>\n    </tr>\n    <tr>\n      <th>2</th>\n      <td>Afghanistan</td>\n      <td>3</td>\n      <td>2020</td>\n      <td>161</td>\n      <td>4</td>\n    </tr>\n    <tr>\n      <th>3</th>\n      <td>Afghanistan</td>\n      <td>4</td>\n      <td>2020</td>\n      <td>1661</td>\n      <td>56</td>\n    </tr>\n    <tr>\n      <th>4</th>\n      <td>Afghanistan</td>\n      <td>5</td>\n      <td>2020</td>\n      <td>13353</td>\n      <td>194</td>\n    </tr>\n    <tr>\n      <th>...</th>\n      <td>...</td>\n      <td>...</td>\n      <td>...</td>\n      <td>...</td>\n      <td>...</td>\n    </tr>\n    <tr>\n      <th>4261</th>\n      <td>Zimbabwe</td>\n      <td>2</td>\n      <td>2021</td>\n      <td>2723</td>\n      <td>265</td>\n    </tr>\n    <tr>\n      <th>4262</th>\n      <td>Zimbabwe</td>\n      <td>3</td>\n      <td>2021</td>\n      <td>864</td>\n      <td>63</td>\n    </tr>\n    <tr>\n      <th>4263</th>\n      <td>Zimbabwe</td>\n      <td>4</td>\n      <td>2021</td>\n      <td>1377</td>\n      <td>46</td>\n    </tr>\n    <tr>\n      <th>4264</th>\n      <td>Zimbabwe</td>\n      <td>5</td>\n      <td>2021</td>\n      <td>709</td>\n      <td>27</td>\n    </tr>\n    <tr>\n      <th>4265</th>\n      <td>Zimbabwe</td>\n      <td>6</td>\n      <td>2021</td>\n      <td>5362</td>\n      <td>115</td>\n    </tr>\n  </tbody>\n</table>\n<p>4266 rows × 5 columns</p>\n</div>"
     },
     "metadata": {},
     "execution_count": 80
    }
   ],
   "source": [
    "group_by_month_year_sum"
   ]
  },
  {
   "cell_type": "code",
   "execution_count": 81,
   "metadata": {},
   "outputs": [
    {
     "output_type": "execute_result",
     "data": {
      "text/plain": [
       "[]"
      ]
     },
     "metadata": {},
     "execution_count": 81
    }
   ],
   "source": [
    "[c for  c in cummulative_by_month['Country'].unique() if not c in group_by_month_year_sum['Country'].unique()]"
   ]
  },
  {
   "cell_type": "code",
   "execution_count": 82,
   "metadata": {},
   "outputs": [],
   "source": [
    "merged = pd.concat([group_by_month_year_sum, cummulative_by_month['Cumulative_cases'], cummulative_by_month['Cumulative_deaths']], axis=1)"
   ]
  },
  {
   "cell_type": "code",
   "execution_count": 83,
   "metadata": {},
   "outputs": [
    {
     "output_type": "execute_result",
     "data": {
      "text/plain": [
       "          Country  month  year  New_cases  New_deaths  Cumulative_cases  \\\n",
       "0     Afghanistan      1  2020          0           0                 0   \n",
       "1     Afghanistan      2  2020          5           0                 0   \n",
       "2     Afghanistan      3  2020        161           4                 5   \n",
       "3     Afghanistan      4  2020       1661          56               192   \n",
       "4     Afghanistan      5  2020      13353         194              2171   \n",
       "...           ...    ...   ...        ...         ...               ...   \n",
       "4261     Zimbabwe      2  2021       2723         265             33388   \n",
       "4262     Zimbabwe      3  2021        864          63             36089   \n",
       "4263     Zimbabwe      4  2021       1377          46             36882   \n",
       "4264     Zimbabwe      5  2021        709          27             38257   \n",
       "4265     Zimbabwe      6  2021       5362         115             38961   \n",
       "\n",
       "      Cumulative_deaths  \n",
       "0                     0  \n",
       "1                     0  \n",
       "2                     0  \n",
       "3                     4  \n",
       "4                    64  \n",
       "...                 ...  \n",
       "4261               1217  \n",
       "4262               1463  \n",
       "4263               1523  \n",
       "4264               1567  \n",
       "4265               1596  \n",
       "\n",
       "[4266 rows x 7 columns]"
      ],
      "text/html": "<div>\n<style scoped>\n    .dataframe tbody tr th:only-of-type {\n        vertical-align: middle;\n    }\n\n    .dataframe tbody tr th {\n        vertical-align: top;\n    }\n\n    .dataframe thead th {\n        text-align: right;\n    }\n</style>\n<table border=\"1\" class=\"dataframe\">\n  <thead>\n    <tr style=\"text-align: right;\">\n      <th></th>\n      <th>Country</th>\n      <th>month</th>\n      <th>year</th>\n      <th>New_cases</th>\n      <th>New_deaths</th>\n      <th>Cumulative_cases</th>\n      <th>Cumulative_deaths</th>\n    </tr>\n  </thead>\n  <tbody>\n    <tr>\n      <th>0</th>\n      <td>Afghanistan</td>\n      <td>1</td>\n      <td>2020</td>\n      <td>0</td>\n      <td>0</td>\n      <td>0</td>\n      <td>0</td>\n    </tr>\n    <tr>\n      <th>1</th>\n      <td>Afghanistan</td>\n      <td>2</td>\n      <td>2020</td>\n      <td>5</td>\n      <td>0</td>\n      <td>0</td>\n      <td>0</td>\n    </tr>\n    <tr>\n      <th>2</th>\n      <td>Afghanistan</td>\n      <td>3</td>\n      <td>2020</td>\n      <td>161</td>\n      <td>4</td>\n      <td>5</td>\n      <td>0</td>\n    </tr>\n    <tr>\n      <th>3</th>\n      <td>Afghanistan</td>\n      <td>4</td>\n      <td>2020</td>\n      <td>1661</td>\n      <td>56</td>\n      <td>192</td>\n      <td>4</td>\n    </tr>\n    <tr>\n      <th>4</th>\n      <td>Afghanistan</td>\n      <td>5</td>\n      <td>2020</td>\n      <td>13353</td>\n      <td>194</td>\n      <td>2171</td>\n      <td>64</td>\n    </tr>\n    <tr>\n      <th>...</th>\n      <td>...</td>\n      <td>...</td>\n      <td>...</td>\n      <td>...</td>\n      <td>...</td>\n      <td>...</td>\n      <td>...</td>\n    </tr>\n    <tr>\n      <th>4261</th>\n      <td>Zimbabwe</td>\n      <td>2</td>\n      <td>2021</td>\n      <td>2723</td>\n      <td>265</td>\n      <td>33388</td>\n      <td>1217</td>\n    </tr>\n    <tr>\n      <th>4262</th>\n      <td>Zimbabwe</td>\n      <td>3</td>\n      <td>2021</td>\n      <td>864</td>\n      <td>63</td>\n      <td>36089</td>\n      <td>1463</td>\n    </tr>\n    <tr>\n      <th>4263</th>\n      <td>Zimbabwe</td>\n      <td>4</td>\n      <td>2021</td>\n      <td>1377</td>\n      <td>46</td>\n      <td>36882</td>\n      <td>1523</td>\n    </tr>\n    <tr>\n      <th>4264</th>\n      <td>Zimbabwe</td>\n      <td>5</td>\n      <td>2021</td>\n      <td>709</td>\n      <td>27</td>\n      <td>38257</td>\n      <td>1567</td>\n    </tr>\n    <tr>\n      <th>4265</th>\n      <td>Zimbabwe</td>\n      <td>6</td>\n      <td>2021</td>\n      <td>5362</td>\n      <td>115</td>\n      <td>38961</td>\n      <td>1596</td>\n    </tr>\n  </tbody>\n</table>\n<p>4266 rows × 7 columns</p>\n</div>"
     },
     "metadata": {},
     "execution_count": 83
    }
   ],
   "source": [
    "merged"
   ]
  },
  {
   "cell_type": "code",
   "execution_count": 84,
   "metadata": {},
   "outputs": [],
   "source": [
    "#merged.to_csv('covid_by_month.csv', index=False)"
   ]
  },
  {
   "cell_type": "code",
   "execution_count": null,
   "metadata": {},
   "outputs": [],
   "source": []
  }
 ],
 "metadata": {
  "kernelspec": {
   "name": "python3",
   "display_name": "Python 3.9.0 64-bit"
  },
  "language_info": {
   "codemirror_mode": {
    "name": "ipython",
    "version": 3
   },
   "file_extension": ".py",
   "mimetype": "text/x-python",
   "name": "python",
   "nbconvert_exporter": "python",
   "pygments_lexer": "ipython3",
   "version": "3.9.0"
  },
  "interpreter": {
   "hash": "4cd7ab41f5fca4b9b44701077e38c5ffd31fe66a6cab21e0214b68d958d0e462"
  }
 },
 "nbformat": 4,
 "nbformat_minor": 5
}